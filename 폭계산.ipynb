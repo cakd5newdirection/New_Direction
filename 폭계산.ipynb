{
 "cells": [
  {
   "cell_type": "code",
   "execution_count": 8,
   "metadata": {},
   "outputs": [
    {
     "name": "stderr",
     "output_type": "stream",
     "text": [
      "Using cache found in C:\\Users\\kpo01/.cache\\torch\\hub\\ultralytics_yolov5_master\n",
      "YOLOv5  2022-5-21 Python-3.9.7 torch-1.11.0 CUDA:0 (NVIDIA GeForce RTX 3060 Laptop GPU, 6144MiB)\n",
      "\n",
      "Fusing layers... \n",
      "YOLOv5m summary: 290 layers, 20852934 parameters, 0 gradients\n",
      "Adding AutoShape... \n",
      "Saved 1 image to \u001b[1mruns\\detect\\exp82\u001b[0m\n"
     ]
    },
    {
     "data": {
      "text/html": [
       "<div>\n",
       "<style scoped>\n",
       "    .dataframe tbody tr th:only-of-type {\n",
       "        vertical-align: middle;\n",
       "    }\n",
       "\n",
       "    .dataframe tbody tr th {\n",
       "        vertical-align: top;\n",
       "    }\n",
       "\n",
       "    .dataframe thead th {\n",
       "        text-align: right;\n",
       "    }\n",
       "</style>\n",
       "<table border=\"1\" class=\"dataframe\">\n",
       "  <thead>\n",
       "    <tr style=\"text-align: right;\">\n",
       "      <th></th>\n",
       "      <th>xmin</th>\n",
       "      <th>ymin</th>\n",
       "      <th>xmax</th>\n",
       "      <th>ymax</th>\n",
       "      <th>confidence</th>\n",
       "      <th>class</th>\n",
       "      <th>name</th>\n",
       "    </tr>\n",
       "  </thead>\n",
       "  <tbody>\n",
       "    <tr>\n",
       "      <th>0</th>\n",
       "      <td>203.345428</td>\n",
       "      <td>928.656372</td>\n",
       "      <td>386.962219</td>\n",
       "      <td>1020.75</td>\n",
       "      <td>0.939984</td>\n",
       "      <td>0</td>\n",
       "      <td>car-stop</td>\n",
       "    </tr>\n",
       "  </tbody>\n",
       "</table>\n",
       "</div>"
      ],
      "text/plain": [
       "         xmin        ymin        xmax     ymax  confidence  class      name\n",
       "0  203.345428  928.656372  386.962219  1020.75    0.939984      0  car-stop"
      ]
     },
     "execution_count": 8,
     "metadata": {},
     "output_type": "execute_result"
    }
   ],
   "source": [
    "import torch\n",
    "import yaml\n",
    "from PIL import Image\n",
    "# Model\n",
    "model = torch.hub.load('ultralytics/yolov5', 'custom', path='C:\\cakd5\\cakd5_3rd_project_2team\\dataset\\yolov5m.pt', autoshape=True)  # or yolov5n - yolov5x6, custom\n",
    "\n",
    "# Images\n",
    "img = './dataset/sample333.jpg'  # or file, Path, PIL, OpenCV, numpy, list\n",
    "image1 = Image.open(img)\n",
    "img_size = image1.size # 이미지 사이즈 추출\n",
    "# Inference\n",
    "results = model(img)\n",
    "results.save()\n",
    "# Results\n",
    "results.pandas().xyxy[0]  # or .show(), .save(), .crop(), .pandas(), etc."
   ]
  },
  {
   "cell_type": "code",
   "execution_count": 22,
   "metadata": {},
   "outputs": [
    {
     "data": {
      "text/html": [
       "<div>\n",
       "<style scoped>\n",
       "    .dataframe tbody tr th:only-of-type {\n",
       "        vertical-align: middle;\n",
       "    }\n",
       "\n",
       "    .dataframe tbody tr th {\n",
       "        vertical-align: top;\n",
       "    }\n",
       "\n",
       "    .dataframe thead th {\n",
       "        text-align: right;\n",
       "    }\n",
       "</style>\n",
       "<table border=\"1\" class=\"dataframe\">\n",
       "  <thead>\n",
       "    <tr style=\"text-align: right;\">\n",
       "      <th></th>\n",
       "      <th>cctv_num</th>\n",
       "      <th>cctv_exp</th>\n",
       "      <th>coordinate</th>\n",
       "      <th>topLeft_x</th>\n",
       "      <th>topLeft_y</th>\n",
       "      <th>...</th>\n",
       "      <th>bottomRight_x</th>\n",
       "      <th>bottomRight_y</th>\n",
       "      <th>bottomLeft_x</th>\n",
       "      <th>bottomLeft_y</th>\n",
       "      <th>line_pixel</th>\n",
       "    </tr>\n",
       "  </thead>\n",
       "  <tbody>\n",
       "    <tr>\n",
       "      <th>0</th>\n",
       "      <td>1</td>\n",
       "      <td>방지턱</td>\n",
       "      <td>[[ 973. , 421.], [1061. , 422.], [1177. , 807....</td>\n",
       "      <td>973</td>\n",
       "      <td>421</td>\n",
       "      <td>...</td>\n",
       "      <td>1177</td>\n",
       "      <td>807</td>\n",
       "      <td>795</td>\n",
       "      <td>786</td>\n",
       "      <td>15</td>\n",
       "    </tr>\n",
       "    <tr>\n",
       "      <th>1</th>\n",
       "      <td>2</td>\n",
       "      <td>오토바이</td>\n",
       "      <td>[[ 472. , 117.], [ 610. , 117.], [1000. , 650....</td>\n",
       "      <td>472</td>\n",
       "      <td>117</td>\n",
       "      <td>...</td>\n",
       "      <td>1000</td>\n",
       "      <td>650</td>\n",
       "      <td>495</td>\n",
       "      <td>723</td>\n",
       "      <td>18</td>\n",
       "    </tr>\n",
       "    <tr>\n",
       "      <th>2</th>\n",
       "      <td>3</td>\n",
       "      <td>거주자우선주차</td>\n",
       "      <td>[[ 824. ,  130.], [1002. , 130.], [1199. , 946...</td>\n",
       "      <td>824</td>\n",
       "      <td>130</td>\n",
       "      <td>...</td>\n",
       "      <td>1199</td>\n",
       "      <td>946</td>\n",
       "      <td>574</td>\n",
       "      <td>927</td>\n",
       "      <td>27</td>\n",
       "    </tr>\n",
       "    <tr>\n",
       "      <th>3</th>\n",
       "      <td>4</td>\n",
       "      <td>전선</td>\n",
       "      <td>[[ 955. , 162.], [1246. , 173.], [1006. , 884....</td>\n",
       "      <td>955</td>\n",
       "      <td>162</td>\n",
       "      <td>...</td>\n",
       "      <td>1006</td>\n",
       "      <td>884</td>\n",
       "      <td>230</td>\n",
       "      <td>655</td>\n",
       "      <td>18</td>\n",
       "    </tr>\n",
       "  </tbody>\n",
       "</table>\n",
       "<p>4 rows × 12 columns</p>\n",
       "</div>"
      ],
      "text/plain": [
       "   cctv_num cctv_exp                                         coordinate  \\\n",
       "0         1      방지턱  [[ 973. , 421.], [1061. , 422.], [1177. , 807....   \n",
       "1         2     오토바이  [[ 472. , 117.], [ 610. , 117.], [1000. , 650....   \n",
       "2         3  거주자우선주차  [[ 824. ,  130.], [1002. , 130.], [1199. , 946...   \n",
       "3         4       전선  [[ 955. , 162.], [1246. , 173.], [1006. , 884....   \n",
       "\n",
       "   topLeft_x  topLeft_y  ...  bottomRight_x  bottomRight_y  bottomLeft_x  \\\n",
       "0        973        421  ...           1177            807           795   \n",
       "1        472        117  ...           1000            650           495   \n",
       "2        824        130  ...           1199            946           574   \n",
       "3        955        162  ...           1006            884           230   \n",
       "\n",
       "   bottomLeft_y  line_pixel  \n",
       "0           786          15  \n",
       "1           723          18  \n",
       "2           927          27  \n",
       "3           655          18  \n",
       "\n",
       "[4 rows x 12 columns]"
      ]
     },
     "execution_count": 22,
     "metadata": {},
     "output_type": "execute_result"
    }
   ],
   "source": [
    "import pandas as pd\n",
    "pd.read_csv('./cctv_pre.csv',index_col=0,encoding='cp949')"
   ]
  },
  {
   "cell_type": "code",
   "execution_count": 19,
   "metadata": {},
   "outputs": [
    {
     "name": "stdout",
     "output_type": "stream",
     "text": [
      "234.62934053861179\n"
     ]
    }
   ],
   "source": [
    "# 18픽셀이 차선의 폭\n",
    "df = results.pandas().xyxy[0]\n",
    "for i in range(len(df)):\n",
    "    xmin = df.iloc[i]['xmin']\n",
    "    xmax = df.iloc[i]['xmax']\n",
    "    xmid = (xmax+xmin)/2\n",
    "    if xmid > img_size[0]/2:\n",
    "        x_lenght = xmin\n",
    "    else:\n",
    "        x_lenght = img_size[0]-xmax\n",
    "    able_length = x_lenght/13\n",
    "    print(able_length*15)"
   ]
  },
  {
   "cell_type": "code",
   "execution_count": null,
   "metadata": {},
   "outputs": [],
   "source": []
  },
  {
   "cell_type": "code",
   "execution_count": 5,
   "metadata": {},
   "outputs": [
    {
     "name": "stderr",
     "output_type": "stream",
     "text": [
      "Using cache found in C:\\Users\\kpo01/.cache\\torch\\hub\\ultralytics_yolov5_master\n",
      "YOLOv5  2022-5-21 Python-3.9.7 torch-1.11.0 CUDA:0 (NVIDIA GeForce RTX 3060 Laptop GPU, 6144MiB)\n",
      "\n",
      "Fusing layers... \n",
      "YOLOv5l summary: 367 layers, 46533693 parameters, 0 gradients\n",
      "Adding AutoShape... \n",
      "Saved 1 image to \u001b[1mruns\\detect\\exp2\u001b[0m\n",
      "Saved 1 image to \u001b[1mruns\\detect\\exp3\u001b[0m\n",
      "Saved 1 image to \u001b[1mruns\\detect\\exp4\u001b[0m\n",
      "Saved 1 image to \u001b[1mruns\\detect\\exp5\u001b[0m\n",
      "Saved 1 image to \u001b[1mruns\\detect\\exp6\u001b[0m\n",
      "Saved 1 image to \u001b[1mruns\\detect\\exp7\u001b[0m\n",
      "Saved 1 image to \u001b[1mruns\\detect\\exp8\u001b[0m\n",
      "Saved 1 image to \u001b[1mruns\\detect\\exp9\u001b[0m\n",
      "Saved 1 image to \u001b[1mruns\\detect\\exp10\u001b[0m\n",
      "Saved 1 image to \u001b[1mruns\\detect\\exp11\u001b[0m\n",
      "Saved 1 image to \u001b[1mruns\\detect\\exp12\u001b[0m\n",
      "Saved 1 image to \u001b[1mruns\\detect\\exp13\u001b[0m\n",
      "Saved 1 image to \u001b[1mruns\\detect\\exp14\u001b[0m\n",
      "Saved 1 image to \u001b[1mruns\\detect\\exp15\u001b[0m\n",
      "Saved 1 image to \u001b[1mruns\\detect\\exp16\u001b[0m\n",
      "Saved 1 image to \u001b[1mruns\\detect\\exp17\u001b[0m\n",
      "Saved 1 image to \u001b[1mruns\\detect\\exp18\u001b[0m\n"
     ]
    }
   ],
   "source": [
    "import torch\n",
    "import yaml\n",
    "from PIL import Image\n",
    "import glob\n",
    "# Model\n",
    "model = torch.hub.load('ultralytics/yolov5', 'yolov5l')  # or yolov5n - yolov5x6, custom\n",
    "\n",
    "# Images\n",
    "file_names = glob.glob('./dataset/moving_sample/*.png')\n",
    "for name in file_names:\n",
    "    image1 = Image.open(name)\n",
    "    img_size = image1.size # 이미지 사이즈 추출\n",
    "    # Inference\n",
    "    results = model(name)\n",
    "\n",
    "    results.save()\n",
    "    # results.pandas().xyxy[0]  # or .show(), .save(), .crop(), .pandas(), etc.\n"
   ]
  },
  {
   "cell_type": "code",
   "execution_count": 23,
   "metadata": {},
   "outputs": [
    {
     "data": {
      "text/plain": [
       "'./dataset/moving_sample\\\\19021533_frame_250.png'"
      ]
     },
     "execution_count": 23,
     "metadata": {},
     "output_type": "execute_result"
    }
   ],
   "source": [
    "name"
   ]
  },
  {
   "cell_type": "code",
   "execution_count": 26,
   "metadata": {},
   "outputs": [
    {
     "data": {
      "text/plain": [
       "'./dataset/moving_sample\\\\19021533_frame_249.png'"
      ]
     },
     "execution_count": 26,
     "metadata": {},
     "output_type": "execute_result"
    }
   ],
   "source": [
    "img"
   ]
  },
  {
   "cell_type": "code",
   "execution_count": 151,
   "metadata": {},
   "outputs": [
    {
     "data": {
      "text/html": [
       "<div>\n",
       "<style scoped>\n",
       "    .dataframe tbody tr th:only-of-type {\n",
       "        vertical-align: middle;\n",
       "    }\n",
       "\n",
       "    .dataframe tbody tr th {\n",
       "        vertical-align: top;\n",
       "    }\n",
       "\n",
       "    .dataframe thead th {\n",
       "        text-align: right;\n",
       "    }\n",
       "</style>\n",
       "<table border=\"1\" class=\"dataframe\">\n",
       "  <thead>\n",
       "    <tr style=\"text-align: right;\">\n",
       "      <th></th>\n",
       "      <th>xmin</th>\n",
       "      <th>ymin</th>\n",
       "      <th>xmax</th>\n",
       "      <th>ymax</th>\n",
       "      <th>confidence</th>\n",
       "      <th>class</th>\n",
       "      <th>name</th>\n",
       "    </tr>\n",
       "  </thead>\n",
       "  <tbody>\n",
       "    <tr>\n",
       "      <th>0</th>\n",
       "      <td>794.058105</td>\n",
       "      <td>21.682938</td>\n",
       "      <td>911.059204</td>\n",
       "      <td>96.340149</td>\n",
       "      <td>0.862010</td>\n",
       "      <td>2</td>\n",
       "      <td>car</td>\n",
       "    </tr>\n",
       "    <tr>\n",
       "      <th>1</th>\n",
       "      <td>957.200806</td>\n",
       "      <td>24.504175</td>\n",
       "      <td>1044.835815</td>\n",
       "      <td>127.898323</td>\n",
       "      <td>0.861492</td>\n",
       "      <td>2</td>\n",
       "      <td>car</td>\n",
       "    </tr>\n",
       "    <tr>\n",
       "      <th>2</th>\n",
       "      <td>973.982178</td>\n",
       "      <td>157.419464</td>\n",
       "      <td>1108.995239</td>\n",
       "      <td>276.691650</td>\n",
       "      <td>0.846807</td>\n",
       "      <td>2</td>\n",
       "      <td>car</td>\n",
       "    </tr>\n",
       "    <tr>\n",
       "      <th>3</th>\n",
       "      <td>1177.934204</td>\n",
       "      <td>167.341003</td>\n",
       "      <td>1278.004150</td>\n",
       "      <td>298.128418</td>\n",
       "      <td>0.689296</td>\n",
       "      <td>2</td>\n",
       "      <td>car</td>\n",
       "    </tr>\n",
       "    <tr>\n",
       "      <th>4</th>\n",
       "      <td>985.276794</td>\n",
       "      <td>311.587097</td>\n",
       "      <td>1210.018066</td>\n",
       "      <td>596.244141</td>\n",
       "      <td>0.621401</td>\n",
       "      <td>2</td>\n",
       "      <td>car</td>\n",
       "    </tr>\n",
       "    <tr>\n",
       "      <th>5</th>\n",
       "      <td>757.160339</td>\n",
       "      <td>0.000000</td>\n",
       "      <td>847.348938</td>\n",
       "      <td>38.980232</td>\n",
       "      <td>0.384638</td>\n",
       "      <td>2</td>\n",
       "      <td>car</td>\n",
       "    </tr>\n",
       "  </tbody>\n",
       "</table>\n",
       "</div>"
      ],
      "text/plain": [
       "          xmin        ymin         xmax        ymax  confidence  class name\n",
       "0   794.058105   21.682938   911.059204   96.340149    0.862010      2  car\n",
       "1   957.200806   24.504175  1044.835815  127.898323    0.861492      2  car\n",
       "2   973.982178  157.419464  1108.995239  276.691650    0.846807      2  car\n",
       "3  1177.934204  167.341003  1278.004150  298.128418    0.689296      2  car\n",
       "4   985.276794  311.587097  1210.018066  596.244141    0.621401      2  car\n",
       "5   757.160339    0.000000   847.348938   38.980232    0.384638      2  car"
      ]
     },
     "execution_count": 151,
     "metadata": {},
     "output_type": "execute_result"
    }
   ],
   "source": [
    "# Images\n",
    "img = './dataset/moving_sample\\\\19021529_frame_246.png'  # or file, Path, PIL, OpenCV, numpy, list\n",
    "\n",
    "# Inference\n",
    "results = model(img)\n",
    "# results.show()\n",
    "# Results\n",
    "results.pandas().xyxy[0]  # or .show(), .save(), .crop(), .pandas(), etc."
   ]
  },
  {
   "cell_type": "code",
   "execution_count": 152,
   "metadata": {},
   "outputs": [],
   "source": [
    "df = results.pandas().xyxy[0][results.pandas().xyxy[0]['class']==2]"
   ]
  },
  {
   "cell_type": "code",
   "execution_count": 153,
   "metadata": {},
   "outputs": [],
   "source": [
    "mid = []\n",
    "for i in range(len(df)):\n",
    "    xmin = df.iloc[i]['xmin']\n",
    "    xmax = df.iloc[i]['xmax']\n",
    "    ymin = df.iloc[i]['ymin']\n",
    "    ymax = df.iloc[i]['ymax']\n",
    "    confidence = df.iloc[i]['confidence']\n",
    "    xmid = (xmax+xmin)/2\n",
    "    ymid = (ymin+ymax)/2\n",
    "    mid.append([xmid,ymid])\n",
    "    # mid.append([xmid,ymid,confidence])"
   ]
  },
  {
   "cell_type": "code",
   "execution_count": 154,
   "metadata": {},
   "outputs": [
    {
     "data": {
      "text/plain": [
       "[[852.5586547851562, 59.01154327392578],\n",
       " [1001.018310546875, 76.20124912261963],\n",
       " [1041.4887084960938, 217.05555725097656],\n",
       " [1227.9691772460938, 232.73471069335938],\n",
       " [1097.6474304199219, 453.9156188964844],\n",
       " [802.254638671875, 19.490116119384766]]"
      ]
     },
     "execution_count": 154,
     "metadata": {},
     "output_type": "execute_result"
    }
   ],
   "source": [
    "mid"
   ]
  },
  {
   "cell_type": "code",
   "execution_count": 155,
   "metadata": {},
   "outputs": [
    {
     "data": {
      "text/html": [
       "<div>\n",
       "<style scoped>\n",
       "    .dataframe tbody tr th:only-of-type {\n",
       "        vertical-align: middle;\n",
       "    }\n",
       "\n",
       "    .dataframe tbody tr th {\n",
       "        vertical-align: top;\n",
       "    }\n",
       "\n",
       "    .dataframe thead th {\n",
       "        text-align: right;\n",
       "    }\n",
       "</style>\n",
       "<table border=\"1\" class=\"dataframe\">\n",
       "  <thead>\n",
       "    <tr style=\"text-align: right;\">\n",
       "      <th></th>\n",
       "      <th>xmin</th>\n",
       "      <th>ymin</th>\n",
       "      <th>xmax</th>\n",
       "      <th>ymax</th>\n",
       "      <th>confidence</th>\n",
       "      <th>class</th>\n",
       "      <th>name</th>\n",
       "    </tr>\n",
       "  </thead>\n",
       "  <tbody>\n",
       "    <tr>\n",
       "      <th>0</th>\n",
       "      <td>774.476807</td>\n",
       "      <td>23.236576</td>\n",
       "      <td>898.163635</td>\n",
       "      <td>88.095680</td>\n",
       "      <td>0.855330</td>\n",
       "      <td>2</td>\n",
       "      <td>car</td>\n",
       "    </tr>\n",
       "    <tr>\n",
       "      <th>1</th>\n",
       "      <td>976.342041</td>\n",
       "      <td>155.044540</td>\n",
       "      <td>1108.669678</td>\n",
       "      <td>277.126587</td>\n",
       "      <td>0.848189</td>\n",
       "      <td>2</td>\n",
       "      <td>car</td>\n",
       "    </tr>\n",
       "    <tr>\n",
       "      <th>2</th>\n",
       "      <td>956.919617</td>\n",
       "      <td>23.398230</td>\n",
       "      <td>1045.891113</td>\n",
       "      <td>127.897522</td>\n",
       "      <td>0.845678</td>\n",
       "      <td>2</td>\n",
       "      <td>car</td>\n",
       "    </tr>\n",
       "    <tr>\n",
       "      <th>3</th>\n",
       "      <td>986.010986</td>\n",
       "      <td>315.865784</td>\n",
       "      <td>1190.595947</td>\n",
       "      <td>505.531555</td>\n",
       "      <td>0.751629</td>\n",
       "      <td>2</td>\n",
       "      <td>car</td>\n",
       "    </tr>\n",
       "    <tr>\n",
       "      <th>4</th>\n",
       "      <td>1176.433228</td>\n",
       "      <td>166.657700</td>\n",
       "      <td>1279.322388</td>\n",
       "      <td>298.250427</td>\n",
       "      <td>0.695585</td>\n",
       "      <td>2</td>\n",
       "      <td>car</td>\n",
       "    </tr>\n",
       "    <tr>\n",
       "      <th>5</th>\n",
       "      <td>989.443481</td>\n",
       "      <td>460.373108</td>\n",
       "      <td>1097.116577</td>\n",
       "      <td>622.891724</td>\n",
       "      <td>0.495800</td>\n",
       "      <td>3</td>\n",
       "      <td>motorcycle</td>\n",
       "    </tr>\n",
       "    <tr>\n",
       "      <th>6</th>\n",
       "      <td>758.332886</td>\n",
       "      <td>0.000000</td>\n",
       "      <td>838.592163</td>\n",
       "      <td>44.630127</td>\n",
       "      <td>0.358288</td>\n",
       "      <td>2</td>\n",
       "      <td>car</td>\n",
       "    </tr>\n",
       "  </tbody>\n",
       "</table>\n",
       "</div>"
      ],
      "text/plain": [
       "          xmin        ymin         xmax        ymax  confidence  class  \\\n",
       "0   774.476807   23.236576   898.163635   88.095680    0.855330      2   \n",
       "1   976.342041  155.044540  1108.669678  277.126587    0.848189      2   \n",
       "2   956.919617   23.398230  1045.891113  127.897522    0.845678      2   \n",
       "3   986.010986  315.865784  1190.595947  505.531555    0.751629      2   \n",
       "4  1176.433228  166.657700  1279.322388  298.250427    0.695585      2   \n",
       "5   989.443481  460.373108  1097.116577  622.891724    0.495800      3   \n",
       "6   758.332886    0.000000   838.592163   44.630127    0.358288      2   \n",
       "\n",
       "         name  \n",
       "0         car  \n",
       "1         car  \n",
       "2         car  \n",
       "3         car  \n",
       "4         car  \n",
       "5  motorcycle  \n",
       "6         car  "
      ]
     },
     "execution_count": 155,
     "metadata": {},
     "output_type": "execute_result"
    }
   ],
   "source": [
    "# Images\n",
    "img = './dataset/moving_sample\\\\19021530_frame_247.png'  # or file, Path, PIL, OpenCV, numpy, list\n",
    "\n",
    "# Inference\n",
    "results = model(img)\n",
    "# results.show()\n",
    "# Results\n",
    "results.pandas().xyxy[0]  # or .show(), .save(), .crop(), .pandas(), etc."
   ]
  },
  {
   "cell_type": "code",
   "execution_count": 156,
   "metadata": {},
   "outputs": [],
   "source": [
    "df2 = results.pandas().xyxy[0][results.pandas().xyxy[0]['class']==2]"
   ]
  },
  {
   "cell_type": "code",
   "execution_count": 157,
   "metadata": {},
   "outputs": [],
   "source": [
    "mid2 = []\n",
    "for i in range(len(df2)):\n",
    "    xmin = df2.iloc[i]['xmin']\n",
    "    xmax = df2.iloc[i]['xmax']\n",
    "    ymin = df2.iloc[i]['ymin']\n",
    "    ymax = df2.iloc[i]['ymax']\n",
    "    confidence = df2.iloc[i]['confidence']\n",
    "    xmid = (xmax+xmin)/2\n",
    "    ymid = (ymin+ymax)/2\n",
    "    mid2.append([xmid,ymid])\n",
    "    # mid2.append([xmid,ymid,confidence])"
   ]
  },
  {
   "cell_type": "code",
   "execution_count": 158,
   "metadata": {},
   "outputs": [
    {
     "data": {
      "text/plain": [
       "[[802.254638671875, 19.490116119384766],\n",
       " [852.5586547851562, 59.01154327392578],\n",
       " [1001.018310546875, 76.20124912261963],\n",
       " [1041.4887084960938, 217.05555725097656],\n",
       " [1097.6474304199219, 453.9156188964844],\n",
       " [1227.9691772460938, 232.73471069335938]]"
      ]
     },
     "execution_count": 158,
     "metadata": {},
     "output_type": "execute_result"
    }
   ],
   "source": [
    "mid.sort()\n",
    "mid"
   ]
  },
  {
   "cell_type": "code",
   "execution_count": 159,
   "metadata": {},
   "outputs": [
    {
     "data": {
      "text/plain": [
       "[[798.4625244140625, 22.3150634765625],\n",
       " [836.3202209472656, 55.666128158569336],\n",
       " [1001.4053649902344, 75.64787578582764],\n",
       " [1042.505859375, 216.08556365966797],\n",
       " [1088.303466796875, 410.69866943359375],\n",
       " [1227.8778076171875, 232.45406341552734]]"
      ]
     },
     "execution_count": 159,
     "metadata": {},
     "output_type": "execute_result"
    }
   ],
   "source": [
    "mid2.sort()\n",
    "mid2"
   ]
  },
  {
   "cell_type": "code",
   "execution_count": 174,
   "metadata": {},
   "outputs": [],
   "source": [
    "mid3 = []\n",
    "threshold = 0.1\n",
    "for middle in mid:\n",
    "    for middle2 in mid2:\n",
    "        # mid_x , mid_y ,_ = middle\n",
    "        # mid2_x, mid2_y ,_ = middle2\n",
    "        mid_x , mid_y = middle\n",
    "        mid2_x, mid2_y = middle2\n",
    "        if (mid_x*(1-threshold) < mid2_x < mid_x*1.1) & (mid_y*(1-threshold) < mid2_y < mid_y*1.1):\n",
    "            mid3.append([mid2_x,mid2_y])\n"
   ]
  },
  {
   "cell_type": "code",
   "execution_count": 175,
   "metadata": {},
   "outputs": [
    {
     "data": {
      "text/plain": [
       "[[836.3202209472656, 55.666128158569336],\n",
       " [1001.4053649902344, 75.64787578582764],\n",
       " [1042.505859375, 216.08556365966797],\n",
       " [1088.303466796875, 410.69866943359375],\n",
       " [1227.8778076171875, 232.45406341552734]]"
      ]
     },
     "execution_count": 175,
     "metadata": {},
     "output_type": "execute_result"
    }
   ],
   "source": [
    "mid3"
   ]
  },
  {
   "cell_type": "code",
   "execution_count": 164,
   "metadata": {},
   "outputs": [
    {
     "data": {
      "text/plain": [
       "False"
      ]
     },
     "execution_count": 164,
     "metadata": {},
     "output_type": "execute_result"
    }
   ],
   "source": [
    "mid2 == mid3"
   ]
  },
  {
   "cell_type": "code",
   "execution_count": 166,
   "metadata": {},
   "outputs": [],
   "source": [
    "# Images\n",
    "img = './dataset/moving_sample\\\\19021289_frame_12.png'  # or file, Path, PIL, OpenCV, numpy, list\n",
    "\n",
    "# Inference\n",
    "results = model(img)\n",
    "# results.show()\n",
    "# Results\n",
    "results.pandas().xyxy[0]  # or .show(), .save(), .crop(), .pandas(), etc.\n",
    "\n",
    "df3 = results.pandas().xyxy[0][results.pandas().xyxy[0]['class']==2]\n",
    "\n",
    "mid4 = []\n",
    "for i in range(len(df3)):\n",
    "    xmin = df3.iloc[i]['xmin']\n",
    "    xmax = df3.iloc[i]['xmax']\n",
    "    ymin = df3.iloc[i]['ymin']\n",
    "    ymax = df3.iloc[i]['ymax']\n",
    "    confidence = df3.iloc[i]['confidence']\n",
    "    xmid = (xmax+xmin)/2\n",
    "    ymid = (ymin+ymax)/2\n",
    "    mid4.append([xmid,ymid])\n",
    "    # mid.append([xmid,ymid,confidence])"
   ]
  },
  {
   "cell_type": "code",
   "execution_count": 167,
   "metadata": {},
   "outputs": [],
   "source": [
    "# Images\n",
    "img = './dataset/moving_sample\\\\19021290_frame_13.png'  # or file, Path, PIL, OpenCV, numpy, list\n",
    "\n",
    "# Inference\n",
    "results = model(img)\n",
    "# results.show()\n",
    "# Results\n",
    "results.pandas().xyxy[0]  # or .show(), .save(), .crop(), .pandas(), etc.\n",
    "\n",
    "df4 = results.pandas().xyxy[0][results.pandas().xyxy[0]['class']==2]\n",
    "\n",
    "mid5 = []\n",
    "for i in range(len(df4)):\n",
    "    xmin = df4.iloc[i]['xmin']\n",
    "    xmax = df4.iloc[i]['xmax']\n",
    "    ymin = df4.iloc[i]['ymin']\n",
    "    ymax = df4.iloc[i]['ymax']\n",
    "    confidence = df4.iloc[i]['confidence']\n",
    "    xmid = (xmax+xmin)/2\n",
    "    ymid = (ymin+ymax)/2\n",
    "    mid5.append([xmid,ymid])\n",
    "    # mid.append([xmid,ymid,confidence])"
   ]
  },
  {
   "cell_type": "code",
   "execution_count": 179,
   "metadata": {},
   "outputs": [
    {
     "data": {
      "text/plain": [
       "[[801.4805603027344, 18.560514450073242],\n",
       " [1001.5243835449219, 75.00112438201904],\n",
       " [1042.5511779785156, 215.1925048828125],\n",
       " [1086.5820922851562, 409.67889404296875],\n",
       " [1227.137939453125, 233.5418243408203]]"
      ]
     },
     "execution_count": 179,
     "metadata": {},
     "output_type": "execute_result"
    }
   ],
   "source": [
    "mid4.sort()\n",
    "mid4"
   ]
  },
  {
   "cell_type": "code",
   "execution_count": 180,
   "metadata": {},
   "outputs": [
    {
     "data": {
      "text/plain": [
       "[[802.3318481445312, 18.770341873168945],\n",
       " [1001.5873413085938, 74.07669353485107],\n",
       " [1042.62890625, 214.32386779785156],\n",
       " [1086.9381103515625, 411.3818817138672],\n",
       " [1227.571044921875, 234.33970642089844]]"
      ]
     },
     "execution_count": 180,
     "metadata": {},
     "output_type": "execute_result"
    }
   ],
   "source": [
    "mid5.sort()\n",
    "mid5"
   ]
  },
  {
   "cell_type": "code",
   "execution_count": 181,
   "metadata": {},
   "outputs": [],
   "source": [
    "mid6 = []\n",
    "for middle in mid4:\n",
    "    for middle2 in mid5:\n",
    "        # mid_x , mid_y ,_ = middle\n",
    "        # mid2_x, mid2_y ,_ = middle2\n",
    "        mid_x , mid_y = middle\n",
    "        mid2_x, mid2_y = middle2 \n",
    "        if (mid_x*(1-threshold) < mid2_x < mid_x*(1+threshold)) & (mid_y*(1-threshold) < mid2_y < mid_y*(1+threshold)):\n",
    "            mid6.append([mid2_x,mid2_y])\n"
   ]
  },
  {
   "cell_type": "code",
   "execution_count": 182,
   "metadata": {},
   "outputs": [
    {
     "data": {
      "text/plain": [
       "[[802.3318481445312, 18.770341873168945],\n",
       " [1001.5873413085938, 74.07669353485107],\n",
       " [1042.62890625, 214.32386779785156],\n",
       " [1086.9381103515625, 411.3818817138672],\n",
       " [1227.571044921875, 234.33970642089844]]"
      ]
     },
     "execution_count": 182,
     "metadata": {},
     "output_type": "execute_result"
    }
   ],
   "source": [
    "mid6"
   ]
  },
  {
   "cell_type": "code",
   "execution_count": 183,
   "metadata": {},
   "outputs": [
    {
     "data": {
      "text/plain": [
       "True"
      ]
     },
     "execution_count": 183,
     "metadata": {},
     "output_type": "execute_result"
    }
   ],
   "source": [
    "mid5 == mid6"
   ]
  },
  {
   "cell_type": "code",
   "execution_count": 1,
   "metadata": {},
   "outputs": [
    {
     "name": "stdout",
     "output_type": "stream",
     "text": [
      "[[ 824.  130.]\n",
      " [1002.  130.]\n",
      " [1199.  946.]\n",
      " [ 574.  927.]]\n",
      "[[   0.    0.]\n",
      " [ 624.    0.]\n",
      " [ 624. 1223.]\n",
      " [   0. 1223.]]\n",
      "625 1224\n"
     ]
    },
    {
     "ename": "error",
     "evalue": "OpenCV(4.5.5) D:\\a\\opencv-python\\opencv-python\\opencv\\modules\\imgproc\\src\\imgwarp.cpp:3144: error: (-215:Assertion failed) _src.total() > 0 in function 'cv::warpPerspective'\n",
     "output_type": "error",
     "traceback": [
      "\u001b[1;31m---------------------------------------------------------------------------\u001b[0m",
      "\u001b[1;31merror\u001b[0m                                     Traceback (most recent call last)",
      "\u001b[1;32m~\\AppData\\Local\\Temp/ipykernel_20036/2190794049.py\u001b[0m in \u001b[0;36m<module>\u001b[1;34m\u001b[0m\n\u001b[0;32m     30\u001b[0m \u001b[0mmtrx\u001b[0m \u001b[1;33m=\u001b[0m \u001b[0mcv2\u001b[0m\u001b[1;33m.\u001b[0m\u001b[0mgetPerspectiveTransform\u001b[0m\u001b[1;33m(\u001b[0m\u001b[0mpts1\u001b[0m\u001b[1;33m,\u001b[0m \u001b[0mpts2\u001b[0m\u001b[1;33m)\u001b[0m\u001b[1;33m\u001b[0m\u001b[1;33m\u001b[0m\u001b[0m\n\u001b[0;32m     31\u001b[0m \u001b[1;31m# 원근 변환 적용\u001b[0m\u001b[1;33m\u001b[0m\u001b[1;33m\u001b[0m\u001b[0m\n\u001b[1;32m---> 32\u001b[1;33m \u001b[0mresult\u001b[0m \u001b[1;33m=\u001b[0m \u001b[0mcv2\u001b[0m\u001b[1;33m.\u001b[0m\u001b[0mwarpPerspective\u001b[0m\u001b[1;33m(\u001b[0m\u001b[0msrc\u001b[0m\u001b[1;33m,\u001b[0m \u001b[0mmtrx\u001b[0m\u001b[1;33m,\u001b[0m \u001b[1;33m(\u001b[0m\u001b[0mwidth\u001b[0m\u001b[1;33m,\u001b[0m \u001b[0mheight\u001b[0m\u001b[1;33m)\u001b[0m\u001b[1;33m)\u001b[0m\u001b[1;33m\u001b[0m\u001b[1;33m\u001b[0m\u001b[0m\n\u001b[0m\u001b[0;32m     33\u001b[0m \u001b[0mimg\u001b[0m \u001b[1;33m=\u001b[0m \u001b[0mImage\u001b[0m\u001b[1;33m.\u001b[0m\u001b[0mfromarray\u001b[0m\u001b[1;33m(\u001b[0m\u001b[0mresult\u001b[0m\u001b[1;33m,\u001b[0m \u001b[1;34m'RGB'\u001b[0m\u001b[1;33m)\u001b[0m\u001b[1;33m\u001b[0m\u001b[1;33m\u001b[0m\u001b[0m\n\u001b[0;32m     34\u001b[0m \u001b[0mimage1\u001b[0m \u001b[1;33m=\u001b[0m \u001b[0mImage\u001b[0m\u001b[1;33m.\u001b[0m\u001b[0mopen\u001b[0m\u001b[1;33m(\u001b[0m\u001b[0mimg\u001b[0m\u001b[1;33m)\u001b[0m\u001b[1;33m\u001b[0m\u001b[1;33m\u001b[0m\u001b[0m\n",
      "\u001b[1;31merror\u001b[0m: OpenCV(4.5.5) D:\\a\\opencv-python\\opencv-python\\opencv\\modules\\imgproc\\src\\imgwarp.cpp:3144: error: (-215:Assertion failed) _src.total() > 0 in function 'cv::warpPerspective'\n"
     ]
    }
   ],
   "source": [
    "import cv2\n",
    "import numpy as np\n",
    "from PIL import Image\n",
    "\n",
    "src = cv2.imread('./k5_1', cv2.IMREAD_COLOR)\n",
    "topLeft = [ 824 , 130] # x+y가 가장 값이 좌상단 좌표\n",
    "topRight = [1002 , 130]  # x-y가 가장 작은 것이 우상단 좌표\n",
    "bottomRight = [1199 , 946]  # x+y가 가장 큰 값이 우하단 좌표\n",
    "bottomLeft = [ 574,  927]  # x-y가 가장 큰 값이 좌하단 좌표\n",
    "\n",
    "# 변환 전 4개 좌표 \n",
    "pts1 = np.float32([topLeft, topRight, bottomRight, bottomLeft])\n",
    "print(pts1)\n",
    "\n",
    "# 변환 후 영상에 사용할 서류의 폭과 높이 계산\n",
    "w1 = abs(bottomRight[0] - bottomLeft[0])\n",
    "w2 = abs(topRight[0] - topLeft[0])\n",
    "h1 = abs(topRight[1] - bottomRight[1])\n",
    "h2 = abs(topLeft[1] - bottomLeft[1])\n",
    "width = int(max([w1, w2])) # 두 좌우 거리간의 최대값이 서류의 폭\n",
    "height = int(max([h1, h2])*1.5)  # 두 상하 거리간의 최대값이 서류의 높이\n",
    "\n",
    "# 변환 후 4개 좌표\n",
    "pts2 = np.float32([[0, 0], [width - 1, 0],\n",
    "                    [width - 1, height - 1], [0, height - 1]])\n",
    "print(pts2)\n",
    "print(width,height)\n",
    "\n",
    "# 변환 행렬 계산 \n",
    "mtrx = cv2.getPerspectiveTransform(pts1, pts2)\n",
    "# 원근 변환 적용\n",
    "result = cv2.warpPerspective(src, mtrx, (width, height))\n",
    "img = Image.fromarray(result, 'RGB')\n",
    "image1 = Image.open(img)\n",
    "img_size = image1.size # 이미지 사이즈 추출\n",
    "# Inference\n",
    "results = model(img)\n",
    "# Results\n",
    "results.pandas().xyxy[0]  # or .show(), .save(), .crop(), .pandas(), etc.\n",
    "            "
   ]
  },
  {
   "cell_type": "code",
   "execution_count": 194,
   "metadata": {},
   "outputs": [],
   "source": []
  },
  {
   "cell_type": "code",
   "execution_count": 195,
   "metadata": {},
   "outputs": [],
   "source": [
    "img.show()"
   ]
  }
 ],
 "metadata": {
  "interpreter": {
   "hash": "a3141fa92cb6bb4403abb00da3a74828382414c0be27bb6ce0eaff0e1263d15e"
  },
  "kernelspec": {
   "display_name": "Python 3.9.7 ('cakd5')",
   "language": "python",
   "name": "python3"
  },
  "language_info": {
   "codemirror_mode": {
    "name": "ipython",
    "version": 3
   },
   "file_extension": ".py",
   "mimetype": "text/x-python",
   "name": "python",
   "nbconvert_exporter": "python",
   "pygments_lexer": "ipython3",
   "version": "3.9.7"
  },
  "orig_nbformat": 4
 },
 "nbformat": 4,
 "nbformat_minor": 2
}
