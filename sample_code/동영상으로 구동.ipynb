{
 "cells": [
  {
   "cell_type": "code",
   "execution_count": 1,
   "metadata": {},
   "outputs": [],
   "source": [
    "def mid_convert(mid,mid2,mid3,df):\n",
    "    if mid2 == []:\n",
    "        for i in range(len(df)):\n",
    "            xmin = df.iloc[i]['xmin']\n",
    "            xmax = df.iloc[i]['xmax']\n",
    "            ymin = df.iloc[i]['ymin']\n",
    "            ymax = df.iloc[i]['ymax']\n",
    "            # confidence = df.iloc[i]['confidence']\n",
    "            xmid = (xmax+xmin)/2\n",
    "            ymid = (ymin+ymax)/2\n",
    "            mid2.append([xmid,ymid])\n",
    "            # mid.append([xmid,ymid,confidence])\n",
    "        mid2.sort()\n",
    "    else:\n",
    "        mid = mid2\n",
    "        mid2 = []\n",
    "        for i in range(len(df)):\n",
    "            xmin = df.iloc[i]['xmin']\n",
    "            xmax = df.iloc[i]['xmax']\n",
    "            ymin = df.iloc[i]['ymin']\n",
    "            ymax = df.iloc[i]['ymax']\n",
    "            # confidence = df.iloc[i]['confidence']\n",
    "            xmid = (xmax+xmin)/2\n",
    "            ymid = (ymin+ymax)/2\n",
    "            mid2.append([xmid,ymid])\n",
    "            # mid.append([xmid,ymid,confidence])\n",
    "        mid2.sort()\n",
    "        mid3 = []\n",
    "        \n",
    "        for middle in mid:\n",
    "            for middle2 in mid2:\n",
    "                # mid_x , mid_y ,_ = middle\n",
    "                # mid2_x, mid2_y ,_ = middle2\n",
    "                mid_x , mid_y = middle\n",
    "                mid2_x, mid2_y = middle2\n",
    "                if (mid_x*(1-threshold) < mid2_x < mid_x*(1+threshold)) & (mid_y*(1-threshold) < mid2_y < mid_y*(1+threshold)):\n",
    "                    mid3.append([mid2_x,mid2_y])\n",
    "    mid3.sort()\n",
    "    return mid, mid2, mid3"
   ]
  },
  {
   "cell_type": "code",
   "execution_count": 3,
   "metadata": {},
   "outputs": [
    {
     "name": "stderr",
     "output_type": "stream",
     "text": [
      "Using cache found in C:\\Users\\kpo01/.cache\\torch\\hub\\ultralytics_yolov5_master\n",
      "YOLOv5  2022-5-21 Python-3.9.7 torch-1.11.0 CUDA:0 (NVIDIA GeForce RTX 3060 Laptop GPU, 6144MiB)\n",
      "\n",
      "Fusing layers... \n",
      "YOLOv5l summary: 367 layers, 46533693 parameters, 0 gradients\n",
      "Adding AutoShape... \n",
      "Using cache found in C:\\Users\\kpo01/.cache\\torch\\hub\\ultralytics_yolov5_master\n",
      "YOLOv5  2022-5-21 Python-3.9.7 torch-1.11.0 CUDA:0 (NVIDIA GeForce RTX 3060 Laptop GPU, 6144MiB)\n",
      "\n",
      "Fusing layers... \n",
      "YOLOv5m summary: 290 layers, 20852934 parameters, 0 gradients\n",
      "Adding AutoShape... \n"
     ]
    },
    {
     "name": "stdout",
     "output_type": "stream",
     "text": [
      "./dataset/3-sample_cctv3.mp4\n",
      "frame_size=(1920, 1080)\n"
     ]
    },
    {
     "name": "stderr",
     "output_type": "stream",
     "text": [
      "Saved 1 image to \u001b[1mruns\\detect\\exp45\u001b[0m\n",
      "Saved 1 image to \u001b[1mruns\\detect\\exp46\u001b[0m\n"
     ]
    },
    {
     "name": "stdout",
     "output_type": "stream",
     "text": [
      "------------------------------\n",
      "261.8977525499132\n"
     ]
    },
    {
     "name": "stderr",
     "output_type": "stream",
     "text": [
      "Saved 1 image to \u001b[1mruns\\detect\\exp47\u001b[0m\n"
     ]
    },
    {
     "name": "stdout",
     "output_type": "stream",
     "text": [
      "------------------------------\n",
      "262.1976894802517\n"
     ]
    },
    {
     "name": "stderr",
     "output_type": "stream",
     "text": [
      "Saved 1 image to \u001b[1mruns\\detect\\exp48\u001b[0m\n",
      "Saved 1 image to \u001b[1mruns\\detect\\exp49\u001b[0m\n"
     ]
    },
    {
     "name": "stdout",
     "output_type": "stream",
     "text": [
      "------------------------------\n",
      "262.45044284396704\n"
     ]
    },
    {
     "name": "stderr",
     "output_type": "stream",
     "text": [
      "Saved 1 image to \u001b[1mruns\\detect\\exp50\u001b[0m\n"
     ]
    },
    {
     "name": "stdout",
     "output_type": "stream",
     "text": [
      "------------------------------\n",
      "262.38011678059894\n"
     ]
    },
    {
     "name": "stderr",
     "output_type": "stream",
     "text": [
      "Saved 1 image to \u001b[1mruns\\detect\\exp51\u001b[0m\n"
     ]
    },
    {
     "name": "stdout",
     "output_type": "stream",
     "text": [
      "------------------------------\n",
      "262.5874328613281\n"
     ]
    },
    {
     "name": "stderr",
     "output_type": "stream",
     "text": [
      "Saved 1 image to \u001b[1mruns\\detect\\exp52\u001b[0m\n"
     ]
    },
    {
     "name": "stdout",
     "output_type": "stream",
     "text": [
      "------------------------------\n",
      "262.6169162326389\n"
     ]
    },
    {
     "name": "stderr",
     "output_type": "stream",
     "text": [
      "Saved 1 image to \u001b[1mruns\\detect\\exp53\u001b[0m\n"
     ]
    },
    {
     "name": "stdout",
     "output_type": "stream",
     "text": [
      "------------------------------\n",
      "262.87280612521704\n"
     ]
    },
    {
     "name": "stderr",
     "output_type": "stream",
     "text": [
      "Saved 1 image to \u001b[1mruns\\detect\\exp54\u001b[0m\n"
     ]
    },
    {
     "name": "stdout",
     "output_type": "stream",
     "text": [
      "------------------------------\n",
      "262.7893405490451\n"
     ]
    },
    {
     "name": "stderr",
     "output_type": "stream",
     "text": [
      "Saved 1 image to \u001b[1mruns\\detect\\exp55\u001b[0m\n",
      "Saved 1 image to \u001b[1mruns\\detect\\exp56\u001b[0m\n"
     ]
    },
    {
     "name": "stdout",
     "output_type": "stream",
     "text": [
      "------------------------------\n",
      "113.46149020724826\n"
     ]
    },
    {
     "name": "stderr",
     "output_type": "stream",
     "text": [
      "Saved 1 image to \u001b[1mruns\\detect\\exp57\u001b[0m\n"
     ]
    },
    {
     "name": "stdout",
     "output_type": "stream",
     "text": [
      "------------------------------\n",
      "103.60914442274306\n"
     ]
    },
    {
     "name": "stderr",
     "output_type": "stream",
     "text": [
      "Saved 1 image to \u001b[1mruns\\detect\\exp58\u001b[0m\n"
     ]
    },
    {
     "name": "stdout",
     "output_type": "stream",
     "text": [
      "------------------------------\n",
      "106.79987589518228\n"
     ]
    },
    {
     "name": "stderr",
     "output_type": "stream",
     "text": [
      "Saved 1 image to \u001b[1mruns\\detect\\exp59\u001b[0m\n"
     ]
    },
    {
     "name": "stdout",
     "output_type": "stream",
     "text": [
      "------------------------------\n",
      "111.97035047743054\n"
     ]
    },
    {
     "name": "stderr",
     "output_type": "stream",
     "text": [
      "Saved 1 image to \u001b[1mruns\\detect\\exp60\u001b[0m\n"
     ]
    },
    {
     "name": "stdout",
     "output_type": "stream",
     "text": [
      "------------------------------\n",
      "104.22679477267795\n"
     ]
    },
    {
     "name": "stderr",
     "output_type": "stream",
     "text": [
      "Saved 1 image to \u001b[1mruns\\detect\\exp61\u001b[0m\n",
      "Saved 1 image to \u001b[1mruns\\detect\\exp62\u001b[0m\n"
     ]
    },
    {
     "name": "stdout",
     "output_type": "stream",
     "text": [
      "------------------------------\n",
      "212.2144571940104\n"
     ]
    },
    {
     "name": "stderr",
     "output_type": "stream",
     "text": [
      "Saved 1 image to \u001b[1mruns\\detect\\exp63\u001b[0m\n"
     ]
    },
    {
     "name": "stdout",
     "output_type": "stream",
     "text": [
      "------------------------------\n",
      "252.9569837782118\n"
     ]
    },
    {
     "name": "stderr",
     "output_type": "stream",
     "text": [
      "Saved 1 image to \u001b[1mruns\\detect\\exp64\u001b[0m\n"
     ]
    },
    {
     "name": "stdout",
     "output_type": "stream",
     "text": [
      "------------------------------\n",
      "253.57562594943576\n"
     ]
    },
    {
     "name": "stderr",
     "output_type": "stream",
     "text": [
      "Saved 1 image to \u001b[1mruns\\detect\\exp65\u001b[0m\n"
     ]
    },
    {
     "name": "stdout",
     "output_type": "stream",
     "text": [
      "------------------------------\n",
      "261.5738254123264\n"
     ]
    },
    {
     "name": "stderr",
     "output_type": "stream",
     "text": [
      "Saved 1 image to \u001b[1mruns\\detect\\exp66\u001b[0m\n"
     ]
    },
    {
     "name": "stdout",
     "output_type": "stream",
     "text": [
      "------------------------------\n",
      "262.02038235134546\n"
     ]
    },
    {
     "name": "stderr",
     "output_type": "stream",
     "text": [
      "Saved 1 image to \u001b[1mruns\\detect\\exp67\u001b[0m\n"
     ]
    },
    {
     "name": "stdout",
     "output_type": "stream",
     "text": [
      "------------------------------\n",
      "263.0887858072917\n"
     ]
    },
    {
     "name": "stderr",
     "output_type": "stream",
     "text": [
      "Saved 1 image to \u001b[1mruns\\detect\\exp68\u001b[0m\n"
     ]
    },
    {
     "name": "stdout",
     "output_type": "stream",
     "text": [
      "------------------------------\n",
      "261.4864095052083\n"
     ]
    },
    {
     "name": "stderr",
     "output_type": "stream",
     "text": [
      "Saved 1 image to \u001b[1mruns\\detect\\exp69\u001b[0m\n"
     ]
    },
    {
     "name": "stdout",
     "output_type": "stream",
     "text": [
      "------------------------------\n",
      "262.5766330295139\n"
     ]
    },
    {
     "name": "stderr",
     "output_type": "stream",
     "text": [
      "Saved 1 image to \u001b[1mruns\\detect\\exp70\u001b[0m\n",
      "Saved 1 image to \u001b[1mruns\\detect\\exp71\u001b[0m\n"
     ]
    },
    {
     "name": "stdout",
     "output_type": "stream",
     "text": [
      "------------------------------\n",
      "262.19087388780383\n"
     ]
    },
    {
     "name": "stderr",
     "output_type": "stream",
     "text": [
      "Saved 1 image to \u001b[1mruns\\detect\\exp72\u001b[0m\n",
      "Saved 1 image to \u001b[1mruns\\detect\\exp73\u001b[0m\n"
     ]
    },
    {
     "name": "stdout",
     "output_type": "stream",
     "text": [
      "------------------------------\n",
      "185.7207743326823\n"
     ]
    },
    {
     "name": "stderr",
     "output_type": "stream",
     "text": [
      "Saved 1 image to \u001b[1mruns\\detect\\exp74\u001b[0m\n"
     ]
    },
    {
     "name": "stdout",
     "output_type": "stream",
     "text": [
      "------------------------------\n",
      "187.1962144639757\n"
     ]
    },
    {
     "name": "stderr",
     "output_type": "stream",
     "text": [
      "Saved 1 image to \u001b[1mruns\\detect\\exp75\u001b[0m\n"
     ]
    },
    {
     "name": "stdout",
     "output_type": "stream",
     "text": [
      "------------------------------\n",
      "262.5384691026476\n"
     ]
    },
    {
     "name": "stderr",
     "output_type": "stream",
     "text": [
      "Saved 1 image to \u001b[1mruns\\detect\\exp76\u001b[0m\n"
     ]
    },
    {
     "name": "stdout",
     "output_type": "stream",
     "text": [
      "------------------------------\n",
      "262.6238844129774\n"
     ]
    },
    {
     "name": "stderr",
     "output_type": "stream",
     "text": [
      "Saved 1 image to \u001b[1mruns\\detect\\exp77\u001b[0m\n"
     ]
    },
    {
     "name": "stdout",
     "output_type": "stream",
     "text": [
      "------------------------------\n",
      "262.42012871636285\n"
     ]
    }
   ],
   "source": [
    "import cv2\n",
    "import os\n",
    "import torch\n",
    "import yaml\n",
    "from PIL import Image\n",
    "import numpy as np\n",
    "import pandas as pd\n",
    "\n",
    "# Model\n",
    "model = torch.hub.load('ultralytics/yolov5', 'yolov5l')  # or yolov5n - yolov5x6, custom\n",
    "model2 = torch.hub.load('ultralytics/yolov5', 'custom', path='C:\\cakd5\\cakd5_3rd_project_2team\\dataset\\yolov5m.pt', autoshape=True)\n",
    "    \n",
    "cctv_pre = pd.read_csv('./cctv_pre.csv',index_col=0,encoding='cp949')\n",
    "\n",
    "path = './dataset/'\n",
    "file_name = \"3-sample_cctv3.mp4\"\n",
    "filePath = os.path.join(path, file_name)\n",
    "cctv_num = int(file_name[0])\n",
    "\n",
    "mid = []\n",
    "mid2 = []\n",
    "mid3 = []\n",
    "w_mid = []\n",
    "w_mid2 = []\n",
    "w_mid3 = []\n",
    "\n",
    "\n",
    "coor_df = cctv_pre[cctv_pre.cctv_num == cctv_num]\n",
    "\n",
    "count = 0\n",
    "threshold = 0.1\n",
    "line_width = 15\n",
    "line_pixel = coor_df['line_pixel'].values[0]\n",
    "\n",
    "print(filePath)\n",
    "\n",
    "if os.path.isfile(filePath):\t# 해당 파일이 있는지 확인\n",
    "    # 영상 객체(파일) 가져오기\n",
    "    cap = cv2.VideoCapture(filePath)\n",
    "else:\n",
    "    print(\"파일이 존재하지 않습니다.\")  \n",
    "\n",
    "# 프레임을 정수형으로 형 변환\n",
    "frameWidth = int(cap.get(cv2.CAP_PROP_FRAME_WIDTH))\t# 영상의 넓이(가로) 프레임\n",
    "frameHeight = int(cap.get(cv2.CAP_PROP_FRAME_HEIGHT))\t# 영상의 높이(세로) 프레임\n",
    "# print(cap.get(cv2.CAP_PROP_FRAME_COUNT))\n",
    "frame_size = (frameWidth, frameHeight)\n",
    "print('frame_size={}'.format(frame_size))\n",
    "\n",
    "frameRate = 30\n",
    " \n",
    "while True:\n",
    "    # 한 장의 이미지(frame)를 가져오기\n",
    "    # 영상 : 이미지(프레임)의 연속\n",
    "    # 정상적으로 읽어왔는지 -> retval\n",
    "    # 읽어온 프레임 -> frame\n",
    "    retval, frame = cap.read()\n",
    "    if not(retval):\t# 프레임정보를 정상적으로 읽지 못하면\n",
    "        break  # while문을 빠져나가기\n",
    "        \n",
    "    key = cv2.waitKey(frameRate)  # frameRate msec동안 한 프레임을 보여준다\n",
    "    cv2.imshow('frame', frame)# 프레임 보여주기\n",
    "    count += 1\n",
    "    # print(count)\n",
    "    \n",
    "    # 60프레임마다 객체 탐지 작동\n",
    "    if count % 60 == 0:\n",
    "        results = model(frame)\n",
    "        # results.show()\n",
    "        # Results\n",
    "        results.pandas().xyxy[0]\n",
    "        # results.save()\n",
    "        df = results.pandas().xyxy[0][results.pandas().xyxy[0]['class']==2]\n",
    "        mid, mid2, mid3 = mid_convert(mid, mid2, mid3,df)\n",
    "        # print(mid)\n",
    "        # print()\n",
    "        # print(mid2)\n",
    "        # print()\n",
    "        # print(mid3)\n",
    "        # print(mid2==mid3)\n",
    "        if mid2==mid3:\n",
    "            # src = cv2.imread(frame, cv2.IMREAD_COLOR) \n",
    "            topLeft = [coor_df.topLeft_x.values[0] , coor_df.topLeft_y.values[0]]\n",
    "            topRight = [coor_df.topRight_x.values[0] , coor_df.topRight_y.values[0]] \n",
    "            bottomRight = [coor_df.bottomRight_x.values[0] , coor_df.bottomRight_y.values[0]] \n",
    "            bottomLeft = [coor_df.bottomLeft_x.values[0] , coor_df.bottomLeft_y.values[0]]\n",
    "\n",
    "            # 변환 전 4개 좌표 \n",
    "            pts1 = np.float32([topLeft, topRight, bottomRight, bottomLeft])\n",
    "            # print(pts1)\n",
    "\n",
    "            # 변환 후 영상에 사용할 서류의 폭과 높이 계산\n",
    "            w1 = abs(bottomRight[0] - bottomLeft[0])\n",
    "            w2 = abs(topRight[0] - topLeft[0])\n",
    "            h1 = abs(topRight[1] - bottomRight[1])\n",
    "            h2 = abs(topLeft[1] - bottomLeft[1])\n",
    "            width = int(max([w1, w2])) # 두 좌우 거리간의 최대값이 서류의 폭\n",
    "            height = int(max([h1, h2])*1.5)  # 두 상하 거리간의 최대값이 서류의 높이\n",
    "\n",
    "            # 변환 후 4개 좌표\n",
    "            pts2 = np.float32([[0, 0], [width - 1, 0],\n",
    "                                [width - 1, height - 1], [0, height - 1]])\n",
    "            # print(pts2)\n",
    "            # print(width,height)\n",
    "\n",
    "            # 변환 행렬 계산 \n",
    "            mtrx = cv2.getPerspectiveTransform(pts1, pts2)\n",
    "            # 원근 변환 적용\n",
    "            result = cv2.warpPerspective(frame, mtrx, (width, height))\n",
    "\n",
    "            image1 = result\n",
    "            \n",
    "            img_size = image1.shape # 이미지 사이즈 추출\n",
    "            # Inference\n",
    "            results = model2(result)\n",
    "            # Results\n",
    "            results.save()\n",
    "            results.pandas().xyxy[0]  # or .show(), .save(), .crop(), .pandas(), etc.\n",
    "            df = results.pandas().xyxy[0]\n",
    "            df = df.reset_index(drop=True)\n",
    "            w_mid, w_mid2, w_mid3 = mid_convert(w_mid, w_mid2, w_mid3,df)\n",
    "\n",
    "            if w_mid2 == w_mid3:\n",
    "                left = []\n",
    "                right = []\n",
    "                cross = []\n",
    "                print('-'*30)\n",
    "                df['xmid'] = np.NaN\n",
    "                for i in range(len(df)):\n",
    "                    xmin = df.loc[i]['xmin']\n",
    "                    xmax = df.loc[i]['xmax']\n",
    "                    xmid = (xmax+xmin)/2\n",
    "                    df.loc[i,['xmid']] = xmid\n",
    "                # break\n",
    "                for i in df.xmid:\n",
    "                    if i > img_size[1]/2:\n",
    "                        right.append(df.loc[df['xmid']==i].values.tolist()[0])\n",
    "                    else:\n",
    "                        left.append(df.loc[df['xmid']==i].values.tolist()[0])\n",
    "                if (left != [])&(right != []):\n",
    "                    for i in left:\n",
    "                        for j in right:\n",
    "                            if (i[3]>j[1]) & (i[1]<j[3]):\n",
    "                                cross.append([i[2],j[0]])\n",
    "                            elif (i[1]>j[3]) & (i[3]<j[1]):\n",
    "                                cross.append([i[2],j[0]])\n",
    "                    cross_able = []\n",
    "                    if cross != []:\n",
    "                        for i in cross:\n",
    "                            cross_able.append(i[1]-i[0])\n",
    "                        x_length = min(cross_able)\n",
    "                    else:\n",
    "                        able = []\n",
    "                        for i in range(len(left)):\n",
    "                            able.append(img_size[1] - left[i][2])\n",
    "                        for i in range(len(right)):\n",
    "                            able.append(right[i][0])\n",
    "                        x_length = min(able)\n",
    "                else:\n",
    "                    able = []\n",
    "                    if left != []:\n",
    "                        for i in range(len(left)):\n",
    "                            able.append(img_size[1] - left[i][2])\n",
    "                    else:\n",
    "                        for i in range(len(right)):\n",
    "                            able.append(right[i][0])\n",
    "                    x_length = min(able)\n",
    "\n",
    "                able_pixel = x_length / line_pixel\n",
    "                able_length = able_pixel*line_width\n",
    "                print(able_length) # 출력값 = 통행가용폭\n",
    "        \n",
    "    # 키 입력을 받으면 키값을 key로 저장 -> esc == 27(아스키코드)\n",
    "    if key == 27:\n",
    "        break\t# while문을 빠져나가기\n",
    "    \n",
    "if cap.isOpened():\t# 영상 파일(카메라)이 정상적으로 열렸는지(초기화되었는지) 여부\n",
    "    cap.release()\t# 영상 파일(카메라) 사용을 종료\n",
    "    \n",
    "cv2.destroyAllWindows()"
   ]
  },
  {
   "cell_type": "code",
   "execution_count": 4,
   "metadata": {},
   "outputs": [
    {
     "data": {
      "text/html": [
       "<div>\n",
       "<style scoped>\n",
       "    .dataframe tbody tr th:only-of-type {\n",
       "        vertical-align: middle;\n",
       "    }\n",
       "\n",
       "    .dataframe tbody tr th {\n",
       "        vertical-align: top;\n",
       "    }\n",
       "\n",
       "    .dataframe thead th {\n",
       "        text-align: right;\n",
       "    }\n",
       "</style>\n",
       "<table border=\"1\" class=\"dataframe\">\n",
       "  <thead>\n",
       "    <tr style=\"text-align: right;\">\n",
       "      <th></th>\n",
       "      <th>xmin</th>\n",
       "      <th>ymin</th>\n",
       "      <th>xmax</th>\n",
       "      <th>ymax</th>\n",
       "      <th>confidence</th>\n",
       "      <th>class</th>\n",
       "      <th>name</th>\n",
       "      <th>xmid</th>\n",
       "    </tr>\n",
       "  </thead>\n",
       "  <tbody>\n",
       "    <tr>\n",
       "      <th>0</th>\n",
       "      <td>472.356232</td>\n",
       "      <td>620.864990</td>\n",
       "      <td>622.95575</td>\n",
       "      <td>930.341675</td>\n",
       "      <td>0.964656</td>\n",
       "      <td>0</td>\n",
       "      <td>car-stop</td>\n",
       "      <td>547.655991</td>\n",
       "    </tr>\n",
       "    <tr>\n",
       "      <th>1</th>\n",
       "      <td>495.489807</td>\n",
       "      <td>140.651627</td>\n",
       "      <td>625.00000</td>\n",
       "      <td>555.564270</td>\n",
       "      <td>0.961946</td>\n",
       "      <td>0</td>\n",
       "      <td>car-stop</td>\n",
       "      <td>560.244904</td>\n",
       "    </tr>\n",
       "  </tbody>\n",
       "</table>\n",
       "</div>"
      ],
      "text/plain": [
       "         xmin        ymin       xmax        ymax  confidence  class      name  \\\n",
       "0  472.356232  620.864990  622.95575  930.341675    0.964656      0  car-stop   \n",
       "1  495.489807  140.651627  625.00000  555.564270    0.961946      0  car-stop   \n",
       "\n",
       "         xmid  \n",
       "0  547.655991  \n",
       "1  560.244904  "
      ]
     },
     "execution_count": 4,
     "metadata": {},
     "output_type": "execute_result"
    }
   ],
   "source": [
    "df"
   ]
  },
  {
   "cell_type": "code",
   "execution_count": 1,
   "metadata": {},
   "outputs": [
    {
     "data": {
      "text/html": [
       "<div>\n",
       "<style scoped>\n",
       "    .dataframe tbody tr th:only-of-type {\n",
       "        vertical-align: middle;\n",
       "    }\n",
       "\n",
       "    .dataframe tbody tr th {\n",
       "        vertical-align: top;\n",
       "    }\n",
       "\n",
       "    .dataframe thead th {\n",
       "        text-align: right;\n",
       "    }\n",
       "</style>\n",
       "<table border=\"1\" class=\"dataframe\">\n",
       "  <thead>\n",
       "    <tr style=\"text-align: right;\">\n",
       "      <th></th>\n",
       "      <th>cctv_num</th>\n",
       "      <th>cctv_exp</th>\n",
       "      <th>coordinate</th>\n",
       "      <th>topLeft_x</th>\n",
       "      <th>topLeft_y</th>\n",
       "      <th>topRight_x</th>\n",
       "      <th>topRight_y</th>\n",
       "      <th>bottomRight_x</th>\n",
       "      <th>bottomRight_y</th>\n",
       "      <th>bottomLeft_x</th>\n",
       "      <th>bottomLeft_y</th>\n",
       "      <th>line_pixel</th>\n",
       "    </tr>\n",
       "  </thead>\n",
       "  <tbody>\n",
       "    <tr>\n",
       "      <th>0</th>\n",
       "      <td>1</td>\n",
       "      <td>방지턱</td>\n",
       "      <td>[[ 973. , 421.], [1061. , 422.], [1177. , 807....</td>\n",
       "      <td>973</td>\n",
       "      <td>421</td>\n",
       "      <td>1061</td>\n",
       "      <td>422</td>\n",
       "      <td>1177</td>\n",
       "      <td>807</td>\n",
       "      <td>795</td>\n",
       "      <td>786</td>\n",
       "      <td>15</td>\n",
       "    </tr>\n",
       "    <tr>\n",
       "      <th>1</th>\n",
       "      <td>2</td>\n",
       "      <td>오토바이</td>\n",
       "      <td>[[ 472. , 117.], [ 610. , 117.], [1000. , 650....</td>\n",
       "      <td>472</td>\n",
       "      <td>117</td>\n",
       "      <td>610</td>\n",
       "      <td>117</td>\n",
       "      <td>1000</td>\n",
       "      <td>650</td>\n",
       "      <td>495</td>\n",
       "      <td>723</td>\n",
       "      <td>18</td>\n",
       "    </tr>\n",
       "    <tr>\n",
       "      <th>2</th>\n",
       "      <td>3</td>\n",
       "      <td>거주자우선주차</td>\n",
       "      <td>[[ 824. ,  130.], [1002. , 130.], [1199. , 946...</td>\n",
       "      <td>824</td>\n",
       "      <td>130</td>\n",
       "      <td>1002</td>\n",
       "      <td>130</td>\n",
       "      <td>1199</td>\n",
       "      <td>946</td>\n",
       "      <td>574</td>\n",
       "      <td>927</td>\n",
       "      <td>27</td>\n",
       "    </tr>\n",
       "    <tr>\n",
       "      <th>3</th>\n",
       "      <td>4</td>\n",
       "      <td>전선</td>\n",
       "      <td>[[ 955. , 162.], [1246. , 173.], [1006. , 884....</td>\n",
       "      <td>955</td>\n",
       "      <td>162</td>\n",
       "      <td>1246</td>\n",
       "      <td>173</td>\n",
       "      <td>1006</td>\n",
       "      <td>884</td>\n",
       "      <td>230</td>\n",
       "      <td>655</td>\n",
       "      <td>18</td>\n",
       "    </tr>\n",
       "  </tbody>\n",
       "</table>\n",
       "</div>"
      ],
      "text/plain": [
       "   cctv_num cctv_exp                                         coordinate  \\\n",
       "0         1      방지턱  [[ 973. , 421.], [1061. , 422.], [1177. , 807....   \n",
       "1         2     오토바이  [[ 472. , 117.], [ 610. , 117.], [1000. , 650....   \n",
       "2         3  거주자우선주차  [[ 824. ,  130.], [1002. , 130.], [1199. , 946...   \n",
       "3         4       전선  [[ 955. , 162.], [1246. , 173.], [1006. , 884....   \n",
       "\n",
       "   topLeft_x  topLeft_y  topRight_x  topRight_y  bottomRight_x  bottomRight_y  \\\n",
       "0        973        421        1061         422           1177            807   \n",
       "1        472        117         610         117           1000            650   \n",
       "2        824        130        1002         130           1199            946   \n",
       "3        955        162        1246         173           1006            884   \n",
       "\n",
       "   bottomLeft_x  bottomLeft_y  line_pixel  \n",
       "0           795           786          15  \n",
       "1           495           723          18  \n",
       "2           574           927          27  \n",
       "3           230           655          18  "
      ]
     },
     "execution_count": 1,
     "metadata": {},
     "output_type": "execute_result"
    }
   ],
   "source": [
    "import pandas as pd\n",
    "cctv_pre = pd.read_csv('./cctv_pre.csv',index_col=0,encoding='cp949')\n",
    "cctv_pre"
   ]
  },
  {
   "cell_type": "code",
   "execution_count": 10,
   "metadata": {},
   "outputs": [
    {
     "data": {
      "text/html": [
       "<div>\n",
       "<style scoped>\n",
       "    .dataframe tbody tr th:only-of-type {\n",
       "        vertical-align: middle;\n",
       "    }\n",
       "\n",
       "    .dataframe tbody tr th {\n",
       "        vertical-align: top;\n",
       "    }\n",
       "\n",
       "    .dataframe thead th {\n",
       "        text-align: right;\n",
       "    }\n",
       "</style>\n",
       "<table border=\"1\" class=\"dataframe\">\n",
       "  <thead>\n",
       "    <tr style=\"text-align: right;\">\n",
       "      <th></th>\n",
       "      <th>cctv_num</th>\n",
       "      <th>cctv_exp</th>\n",
       "      <th>coordinate</th>\n",
       "      <th>topLeft_x</th>\n",
       "      <th>topLeft_y</th>\n",
       "      <th>...</th>\n",
       "      <th>bottomRight_x</th>\n",
       "      <th>bottomRight_y</th>\n",
       "      <th>bottomLeft_x</th>\n",
       "      <th>bottomLeft_y</th>\n",
       "      <th>line_pixel</th>\n",
       "    </tr>\n",
       "  </thead>\n",
       "  <tbody>\n",
       "    <tr>\n",
       "      <th>2</th>\n",
       "      <td>3</td>\n",
       "      <td>거주자우선주차</td>\n",
       "      <td>[[ 824. ,  130.], [1002. , 130.], [1199. , 946...</td>\n",
       "      <td>824</td>\n",
       "      <td>130</td>\n",
       "      <td>...</td>\n",
       "      <td>1199</td>\n",
       "      <td>946</td>\n",
       "      <td>574</td>\n",
       "      <td>927</td>\n",
       "      <td>27</td>\n",
       "    </tr>\n",
       "  </tbody>\n",
       "</table>\n",
       "<p>1 rows × 12 columns</p>\n",
       "</div>"
      ],
      "text/plain": [
       "   cctv_num cctv_exp                                         coordinate  \\\n",
       "2         3  거주자우선주차  [[ 824. ,  130.], [1002. , 130.], [1199. , 946...   \n",
       "\n",
       "   topLeft_x  topLeft_y  ...  bottomRight_x  bottomRight_y  bottomLeft_x  \\\n",
       "2        824        130  ...           1199            946           574   \n",
       "\n",
       "   bottomLeft_y  line_pixel  \n",
       "2           927          27  \n",
       "\n",
       "[1 rows x 12 columns]"
      ]
     },
     "execution_count": 10,
     "metadata": {},
     "output_type": "execute_result"
    }
   ],
   "source": [
    "coor_df = cctv_pre[cctv_pre.cctv_num == int(file_name[0])]\n",
    "coor_df"
   ]
  },
  {
   "cell_type": "code",
   "execution_count": 13,
   "metadata": {},
   "outputs": [
    {
     "data": {
      "text/plain": [
       "2    27\n",
       "Name: line_pixel, dtype: int64"
      ]
     },
     "execution_count": 13,
     "metadata": {},
     "output_type": "execute_result"
    }
   ],
   "source": [
    "coor_df['line_pixel']"
   ]
  },
  {
   "cell_type": "code",
   "execution_count": 3,
   "metadata": {},
   "outputs": [
    {
     "name": "stdout",
     "output_type": "stream",
     "text": [
      "[[ 955.  162.]\n",
      " [1246.  173.]\n",
      " [1006.  884.]\n",
      " [ 230.  655.]]\n",
      "[[   0.    0.]\n",
      " [ 775.    0.]\n",
      " [ 775. 1065.]\n",
      " [   0. 1065.]]\n",
      "776 1066\n"
     ]
    },
    {
     "data": {
      "text/plain": [
       "True"
      ]
     },
     "execution_count": 3,
     "metadata": {},
     "output_type": "execute_result"
    }
   ],
   "source": [
    "import cv2\n",
    "import numpy as np\n",
    "path = './dataset/'\n",
    "file_name = \"4-sample.png\"\n",
    "filePath = os.path.join(path, file_name)\n",
    "src = cv2.imread(filePath, cv2.IMREAD_COLOR)\n",
    "if file_name.startswith('1'):\n",
    "    coor_df = cctv_pre[cctv_pre.cctv_num == 1]\n",
    "elif file_name.startswith('2'):\n",
    "    coor_df = cctv_pre[cctv_pre.cctv_num == 2]\n",
    "elif file_name.startswith('3'):\n",
    "    coor_df = cctv_pre[cctv_pre.cctv_num == 3]\n",
    "elif file_name.startswith('4'):\n",
    "    coor_df = cctv_pre[cctv_pre.cctv_num == 4]\n",
    "\n",
    "topLeft = [coor_df.topLeft_x.values[0] , coor_df.topLeft_y.values[0]]\n",
    "topRight = [coor_df.topRight_x.values[0] , coor_df.topRight_y.values[0]] \n",
    "bottomRight = [coor_df.bottomRight_x.values[0] , coor_df.bottomRight_y.values[0]] \n",
    "bottomLeft = [coor_df.bottomLeft_x.values[0] , coor_df.bottomLeft_y.values[0]]\n",
    "\n",
    "# 변환 전 4개 좌표 \n",
    "pts1 = np.float32([topLeft, topRight, bottomRight, bottomLeft])\n",
    "print(pts1)\n",
    "\n",
    "# 변환 후 영상에 사용할 서류의 폭과 높이 계산\n",
    "w1 = abs(bottomRight[0] - bottomLeft[0])\n",
    "w2 = abs(topRight[0] - topLeft[0])\n",
    "h1 = abs(topRight[1] - bottomRight[1])\n",
    "h2 = abs(topLeft[1] - bottomLeft[1])\n",
    "width = int(max([w1, w2])) # 두 좌우 거리간의 최대값이 서류의 폭\n",
    "height = int(max([h1, h2])*1.5)  # 두 상하 거리간의 최대값이 서류의 높이\n",
    "\n",
    "# 변환 후 4개 좌표\n",
    "pts2 = np.float32([[0, 0], [width - 1, 0],\n",
    "                    [width - 1, height - 1], [0, height - 1]])\n",
    "print(pts2)\n",
    "print(width,height)\n",
    "\n",
    "# 변환 행렬 계산 \n",
    "mtrx = cv2.getPerspectiveTransform(pts1, pts2)\n",
    "# 원근 변환 적용\n",
    "result = cv2.warpPerspective(src, mtrx, (width, height))\n",
    "cv2.imwrite('sample.jpg',result)"
   ]
  }
 ],
 "metadata": {
  "interpreter": {
   "hash": "a3141fa92cb6bb4403abb00da3a74828382414c0be27bb6ce0eaff0e1263d15e"
  },
  "kernelspec": {
   "display_name": "Python 3.9.7 ('cakd5')",
   "language": "python",
   "name": "python3"
  },
  "language_info": {
   "codemirror_mode": {
    "name": "ipython",
    "version": 3
   },
   "file_extension": ".py",
   "mimetype": "text/x-python",
   "name": "python",
   "nbconvert_exporter": "python",
   "pygments_lexer": "ipython3",
   "version": "3.9.7"
  },
  "orig_nbformat": 4
 },
 "nbformat": 4,
 "nbformat_minor": 2
}
